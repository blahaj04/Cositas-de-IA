{
 "cells": [
  {
   "cell_type": "code",
   "execution_count": null,
   "id": "c97e53be",
   "metadata": {},
   "outputs": [],
   "source": [
    "# Importamos las librerías necesarias para el análisis y el modelo\n",
    "import pandas as pd\n",
    "import seaborn as sns\n",
    "import matplotlib.pyplot as plt\n",
    "from sklearn.model_selection import train_test_split\n",
    "from sklearn.ensemble import RandomForestClassifier\n",
    "from sklearn.metrics import accuracy_score\n"
   ]
  },
  {
   "cell_type": "code",
   "execution_count": null,
   "id": "befb83f3",
   "metadata": {},
   "outputs": [],
   "source": [
    "# Cargar y limpiar los datos del Titanic\n",
    "df = sns.load_dataset(\"titanic\")  # Cargamos el dataset de ejemplo de Titanic\n",
    "df = df.drop(columns=[\"embark_town\", \"deck\", \"alive\", \"class\", \"who\", \"adult_male\", \"alone\"])  # Quitamos columnas que no usaremos\n",
    "df = df.dropna()  # Eliminamos filas con datos faltantes para evitar errores\n",
    "\n",
    "# Codificar variables categóricas (convertir texto a números para el modelo)\n",
    "df[\"sex\"] = df[\"sex\"].map({\"male\": 0, \"female\": 1})  # 'male' será 0 y 'female' será 1\n",
    "df[\"embarked\"] = df[\"embarked\"].map({\"C\": 0, \"Q\": 1, \"S\": 2})  # 'C', 'Q', 'S' a 0, 1, 2\n"
   ]
  },
  {
   "cell_type": "code",
   "execution_count": null,
   "id": "008b75eb",
   "metadata": {},
   "outputs": [
    {
     "name": "stdout",
     "output_type": "stream",
     "text": [
      "Accuracy del modelo: 0.7692307692307693\n"
     ]
    }
   ],
   "source": [
    "# Separamos las variables independientes (X) y la variable objetivo (y)\n",
    "X = df.drop(columns=[\"survived\"])\n",
    "y = df[\"survived\"]\n",
    "\n",
    "# Dividimos los datos en entrenamiento y prueba (80% entrenamiento, 20% prueba)\n",
    "X_train, X_test, y_train, y_test = train_test_split(X, y, test_size=0.2, random_state=42)\n",
    "\n",
    "# Creamos y entrenamos el modelo Random Forest\n",
    "modelo = RandomForestClassifier(n_estimators=100, random_state=42)\n",
    "modelo.fit(X_train, y_train)\n",
    "\n",
    "# Mostramos la precisión del modelo en los datos de prueba\n",
    "print(\"Accuracy del modelo:\", accuracy_score(y_test, modelo.predict(X_test)))\n"
   ]
  },
  {
   "cell_type": "code",
   "execution_count": null,
   "id": "f9a8fb31",
   "metadata": {},
   "outputs": [],
   "source": [
    "# Lista de pasajeros de ejemplo para predecir si sobreviven o no\n",
    "# Cada pasajero es una lista con: [clase, sexo, edad, hermanos/padres, hijos, tarifa, puerto de embarque]\n",
    "pasajeros = [\n",
    "    [3, \"male\", 22, 0, 0, 7.25, \"S\"],\n",
    "    [1, \"female\", 38, 1, 0, 71.2833, \"C\"],\n",
    "    [3, \"female\", 26, 0, 0, 7.925, \"S\"],\n",
    "    [1, \"male\", 54, 0, 1, 51.8625, \"S\"],\n",
    "    [3, \"male\", 2, 4, 1, 21.075, \"S\"],\n",
    "    [2, \"female\", 27, 1, 0, 21.0, \"S\"],\n",
    "    [2, \"male\", 19, 0, 0, 13.0, \"S\"],\n",
    "    [1, \"female\", 4, 1, 1, 120.0, \"C\"],\n",
    "    [3, \"male\", 35, 0, 0, 8.05, \"S\"],\n",
    "    [2, \"female\", 45, 0, 0, 26.0, \"Q\"],\n",
    "]\n"
   ]
  },
  {
   "cell_type": "code",
   "execution_count": null,
   "id": "2956b4fe",
   "metadata": {},
   "outputs": [],
   "source": [
    "# Función para predecir la supervivencia de una lista de pasajeros\n",
    "def predecir_supervivencia_lista_pasajeros(pasajeros):\n",
    "    # Codificar todos los pasajeros de golpe (convertir texto a números)\n",
    "    codificados = []\n",
    "    for p in pasajeros:\n",
    "        pclass, sex, age, sibsp, parch, fare, embarked = p\n",
    "        sex_code = 0 if sex.lower() == \"male\" else 1  # 'male' a 0, 'female' a 1\n",
    "        embarked_code = {\"C\": 0, \"Q\": 1, \"S\": 2}.get(embarked.upper(), 2)  # 'C', 'Q', 'S' a 0, 1, 2\n",
    "        codificados.append([pclass, sex_code, age, sibsp, parch, fare, embarked_code])\n",
    "\n",
    "    # Crear DataFrame con nombres de columnas para evitar warnings\n",
    "    df_pasajeros = pd.DataFrame(codificados, columns=X.columns)\n",
    "\n",
    "    # Hacer predicciones en lote (todos los pasajeros a la vez)\n",
    "    predicciones = modelo.predict(df_pasajeros)\n",
    "    probabilidades = modelo.predict_proba(df_pasajeros)\n",
    "\n",
    "    # Mostrar resultados de cada pasajero\n",
    "    for i, (pred, proba) in enumerate(zip(predicciones, probabilidades), start=1):\n",
    "        print(f\"\\n👤 Pasajero {i}:\")\n",
    "        print(f\"→ ¿Sobrevive?: {'✅ SÍ' if pred == 1 else '❌ NO'}\")\n",
    "        print(f\"   Probabilidades → Muere: {proba[0]*100:.2f}%, Sobrevive: {proba[1]*100:.2f}%\")\n"
   ]
  },
  {
   "cell_type": "code",
   "execution_count": null,
   "id": "8911b806",
   "metadata": {},
   "outputs": [
    {
     "name": "stdout",
     "output_type": "stream",
     "text": [
      "\n",
      "👤 Pasajero 1:\n",
      "→ ¿Sobrevive?: ❌ NO\n",
      "   Probabilidades → Muere: 97.00%, Sobrevive: 3.00%\n",
      "\n",
      "👤 Pasajero 2:\n",
      "→ ¿Sobrevive?: ✅ SÍ\n",
      "   Probabilidades → Muere: 0.00%, Sobrevive: 100.00%\n",
      "\n",
      "👤 Pasajero 3:\n",
      "→ ¿Sobrevive?: ✅ SÍ\n",
      "   Probabilidades → Muere: 30.00%, Sobrevive: 70.00%\n",
      "\n",
      "👤 Pasajero 4:\n",
      "→ ¿Sobrevive?: ❌ NO\n",
      "   Probabilidades → Muere: 89.00%, Sobrevive: 11.00%\n",
      "\n",
      "👤 Pasajero 5:\n",
      "→ ¿Sobrevive?: ❌ NO\n",
      "   Probabilidades → Muere: 77.00%, Sobrevive: 23.00%\n",
      "\n",
      "👤 Pasajero 6:\n",
      "→ ¿Sobrevive?: ❌ NO\n",
      "   Probabilidades → Muere: 59.00%, Sobrevive: 41.00%\n",
      "\n",
      "👤 Pasajero 7:\n",
      "→ ¿Sobrevive?: ❌ NO\n",
      "   Probabilidades → Muere: 100.00%, Sobrevive: 0.00%\n",
      "\n",
      "👤 Pasajero 8:\n",
      "→ ¿Sobrevive?: ✅ SÍ\n",
      "   Probabilidades → Muere: 2.00%, Sobrevive: 98.00%\n",
      "\n",
      "👤 Pasajero 9:\n",
      "→ ¿Sobrevive?: ❌ NO\n",
      "   Probabilidades → Muere: 100.00%, Sobrevive: 0.00%\n",
      "\n",
      "👤 Pasajero 10:\n",
      "→ ¿Sobrevive?: ✅ SÍ\n",
      "   Probabilidades → Muere: 5.00%, Sobrevive: 95.00%\n"
     ]
    }
   ],
   "source": [
    "# Llamamos a la función para predecir la supervivencia de los pasajeros de ejemplo\n",
    "predecir_supervivencia_lista_pasajeros(pasajeros)"
   ]
  }
 ],
 "metadata": {
  "kernelspec": {
   "display_name": "Python 3",
   "language": "python",
   "name": "python3"
  },
  "language_info": {
   "codemirror_mode": {
    "name": "ipython",
    "version": 3
   },
   "file_extension": ".py",
   "mimetype": "text/x-python",
   "name": "python",
   "nbconvert_exporter": "python",
   "pygments_lexer": "ipython3",
   "version": "3.13.5"
  }
 },
 "nbformat": 4,
 "nbformat_minor": 5
}
